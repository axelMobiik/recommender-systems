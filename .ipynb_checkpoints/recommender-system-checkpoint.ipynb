{
 "cells": [
  {
   "cell_type": "markdown",
   "id": "541a01d3-5356-4844-94b6-360daaad2234",
   "metadata": {},
   "source": [
    "<h1>Recommender System</h1>\n",
    "<p>\n",
    "    Fully developed and deployed recommendations systems are extremely complex and resource intensive.\n",
    "    <br>We have two notebooks for this section of the course:\n",
    "    <li>Recommender Systems with Python</li>\n",
    "    <li>Advanced Recommender Systems with Python</li>\n",
    "    Since full recommender systems require a heavy linear algebra background the Advanced Recommender System notebook is provided as an optional resource.\n",
    "    <br>You should only take a look at this notebook if you feel comfortable with advanced linear algebra.\n",
    "    <br>We'll show a simpler version of creating a recommendation system using item similary for the project.\n",
    "</p>\n",
    "<p>\n",
    "    The two most common types of recommender systems are <strong>Content-Based</strong> and <strong>Collaborative Filtering (CF)</strong>.\n",
    "    <li>Collaborative filtering produces recommendations based on the knowledge of users' attitude to items, that is it uses the \"wisdom of the crowd\" to recommend items.</li>\n",
    "    <li>Content-based recommenders systems focus on the attributes of the items and give you recommendations based on the similary between them.</li>\n",
    "    In general, Collaborative filtering (CF) is more commonly used than content-based systems because it usually gives better results and is relatively easy to understand (from an overall implementation perspective).\n",
    "    <br>The algorithm has the ability to do feature learning on it's own, which means that it can start to learn for itself what features to use.\n",
    "</p>\n",
    "<p>\n",
    "    CF can be divided into <strong>Memory-Based Collaborative Filtering</strong> and <strong>Model-Based Collaborative filtering</strong>.\n",
    "    <br>In the advanced notebook tutorial, we implement Model-Based CF by using singular value decomposition (SVD) and Memory-Based CF by computing cosine similarity.\n",
    "    <br>For our implementation in Python, we will create a content based recommender system for a data set of movies.\n",
    "    <br>This movie data set is usually a student's first data set when beginning to learn about recommender systems.\n",
    "    <br>It is quite large compared to some of the other data sets we've worked with, but in general, recommender systems in real life usually deal with much larger data sets than this one.\n",
    "    <br>There won't be a full exercise with questions for this topic, instead you have the option to work through the advanced notebook if you feel like you have the necessary linear algebra background\n",
    "</p>"
   ]
  },
  {
   "cell_type": "code",
   "execution_count": null,
   "id": "dc6a4c45-b4f7-45b3-8ffd-7f55688da3ec",
   "metadata": {},
   "outputs": [],
   "source": []
  }
 ],
 "metadata": {
  "kernelspec": {
   "display_name": "Python 3 (ipykernel)",
   "language": "python",
   "name": "python3"
  },
  "language_info": {
   "codemirror_mode": {
    "name": "ipython",
    "version": 3
   },
   "file_extension": ".py",
   "mimetype": "text/x-python",
   "name": "python",
   "nbconvert_exporter": "python",
   "pygments_lexer": "ipython3",
   "version": "3.11.7"
  }
 },
 "nbformat": 4,
 "nbformat_minor": 5
}
